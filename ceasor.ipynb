{
 "cells": [
  {
   "cell_type": "code",
   "execution_count": 8,
   "metadata": {},
   "outputs": [
    {
     "name": "stdout",
     "output_type": "stream",
     "text": [
      "enter the message\n",
      "hello\n",
      "the encrypted message is: khoor\n"
     ]
    }
   ],
   "source": [
    "def cesor(string,shift):\n",
    "    sub=''\n",
    "    for char in string:\n",
    "        if char=='':\n",
    "            sub=sub+char\n",
    "        elif char.isupper():\n",
    "            #first order the character and since upper letter starts \n",
    "            #from 65 in ascii so subt from 65\n",
    "            sub=sub+chr((ord(char)+shift-65)%26+26)\n",
    "        else:\n",
    "            sub=sub+chr((ord(char)+shift-97)%26+97)\n",
    "    return sub\n",
    "message=input(\"enter the message\\n\")\n",
    "key=3\n",
    "print(\"the encrypted message is:\",cesor(message,key))"
   ]
  },
  {
   "cell_type": "code",
   "execution_count": null,
   "metadata": {},
   "outputs": [],
   "source": []
  }
 ],
 "metadata": {
  "kernelspec": {
   "display_name": "Python 3",
   "language": "python",
   "name": "python3"
  },
  "language_info": {
   "codemirror_mode": {
    "name": "ipython",
    "version": 3
   },
   "file_extension": ".py",
   "mimetype": "text/x-python",
   "name": "python",
   "nbconvert_exporter": "python",
   "pygments_lexer": "ipython3",
   "version": "3.8.5"
  }
 },
 "nbformat": 4,
 "nbformat_minor": 4
}
