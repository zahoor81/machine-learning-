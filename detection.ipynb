{
 "cells": [
  {
   "cell_type": "code",
   "execution_count": 7,
   "metadata": {
    "scrolled": true
   },
   "outputs": [],
   "source": [
    "import cv2\n",
    "import numpy as np\n",
    "from IPython.display import display, HTML\n",
    "from pprint import pformat\n",
    "def boxprint(*args):\n",
    "    for arg in args:\n",
    "        display(HTML('<pre style=\"white-space: pre !important;\">{}</pre>'.format(pformat(arg))))\n",
    "def nothing(x):\n",
    "    pass\n",
    "\n",
    "cap = cv2.VideoCapture(0)\n",
    "font = cv2.FONT_HERSHEY_COMPLEX                ##Font style for writing text on video frame\n",
    "cap.set(cv2.CAP_PROP_FRAME_WIDTH, 1280)        ##Set camera resolution\n",
    "cap.set(cv2.CAP_PROP_FRAME_HEIGHT, 720)\n",
    "Kernal = np.ones((3, 3), np.uint8)\n",
    "\n",
    "while(1):\n",
    "    ret, frame = cap.read()         ##Read image frame\n",
    "    frame = cv2.flip(frame, +1)     ##Mirror image frame\n",
    "    if not ret:                     ##If frame is not read then exit\n",
    "        break\n",
    "    if cv2.waitKey(1) == ord('s'):  ##While loop exit condition\n",
    "        break\n",
    "    frame2 = cv2.cvtColor(frame, cv2.COLOR_BGR2HSV)         ##BGR to HSV\n",
    "    lb = np.array([153, 119, 212])\n",
    "    ub = np.array([255, 255, 255])\n",
    "\n",
    "    mask = cv2.inRange(frame2, lb, ub)                      ##Create Mask\n",
    "    cv2.imshow('Masked Image', mask)\n",
    "\n",
    "    opening = cv2.morphologyEx(mask, cv2.MORPH_OPEN, Kernal)        ##Morphology\n",
    "    cv2.imshow('Opening', opening)\n",
    "\n",
    "    res = cv2.bitwise_and(frame, frame, mask= opening)             ##Apply mask on original image\n",
    "    cv2.imshow('Resuting Image', res)\n",
    "\n",
    "    contours, hierarchy = cv2.findContours(opening, cv2.RETR_TREE,cv2.CHAIN_APPROX_NONE)\n",
    "    if len(contours) != 0:\n",
    "        cnt = contours[0]\n",
    "        area = cv2.contourArea(cnt)\n",
    "        distance = 2*(10**(-7))* (area**2) - (0.0067 * area) + 83.487\n",
    "        M = cv2.moments(cnt)\n",
    "        Cx = int(M['m10']/M['m00'])\n",
    "        Cy = int(M['m01'] / M['m00'])\n",
    "        ##S = 'Location of object:' + '(' + str(Cx) + ',' + str(Cy) + ')'\n",
    "        ##cv2.putText(frame, S, (5, 50), font, 2, (0, 0, 255), 2, cv2.LINE_AA)\n",
    "        ##S = 'Area of contour: ' + str(area)\n",
    "        ##cv2.putText(frame, S, (5, 50), font, 2, (0, 0, 255), 2, cv2.LINE_AA)\n",
    "        S = 'Distance Of Object: ' + str(distance)\n",
    "        cv2.putText(frame, S, (5, 50), font, 2, (0, 0, 255), 2, cv2.LINE_AA)\n",
    "        cv2.drawContours(frame, cnt, -1, (0, 255, 0), 3)\n",
    "    ##Lets Detect a red ball\n",
    "    cv2.imshow('Original Image', frame)\n",
    "\n",
    "cap.release()                   ##Release memory\n",
    "cv2.destroyAllWindows()         ##Close all the windows"
   ]
  },
  {
   "cell_type": "code",
   "execution_count": null,
   "metadata": {
    "scrolled": true
   },
   "outputs": [],
   "source": []
  },
  {
   "cell_type": "code",
   "execution_count": null,
   "metadata": {},
   "outputs": [],
   "source": []
  }
 ],
 "metadata": {
  "celltoolbar": "Slideshow",
  "kernelspec": {
   "display_name": "Python 3",
   "language": "python",
   "name": "python3"
  },
  "language_info": {
   "codemirror_mode": {
    "name": "ipython",
    "version": 3
   },
   "file_extension": ".py",
   "mimetype": "text/x-python",
   "name": "python",
   "nbconvert_exporter": "python",
   "pygments_lexer": "ipython3",
   "version": "3.8.5"
  }
 },
 "nbformat": 4,
 "nbformat_minor": 4
}
